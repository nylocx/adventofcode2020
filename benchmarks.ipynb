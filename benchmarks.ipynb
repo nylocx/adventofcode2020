{
 "cells": [
  {
   "cell_type": "code",
   "execution_count": 2,
   "outputs": [],
   "source": [
    "import math\n",
    "import re\n",
    "from dataclasses import dataclass, asdict\n",
    "from itertools import combinations\n",
    "from typing import Tuple, Type, TypeVar\n",
    "from collections import defaultdict\n",
    "from functools import lru_cache\n",
    "\n",
    "import numpy as np\n",
    "import pandas as pd"
   ],
   "metadata": {
    "collapsed": false,
    "pycharm": {
     "name": "#%% Imports\n"
    }
   }
  },
  {
   "cell_type": "code",
   "execution_count": 2,
   "outputs": [],
   "source": [
    "searched_sum = 2020"
   ],
   "metadata": {
    "collapsed": false,
    "pycharm": {
     "name": "#%% Day 01 Setup\n"
    }
   }
  },
  {
   "cell_type": "code",
   "execution_count": 3,
   "outputs": [
    {
     "name": "stdout",
     "output_type": "stream",
     "text": [
      "212 µs ± 9.17 µs per loop (mean ± std. dev. of 7 runs, 10000 loops each)\n"
     ]
    }
   ],
   "source": [
    "%%timeit\n",
    "with open(\"day_01_input.txt\") as input_data:\n",
    "    for i, pair in enumerate(combinations(sorted((int(x) for x in input_data)), 2)):\n",
    "        if sum(pair) == searched_sum:\n",
    "            day_01_p1 = math.prod(pair)\n",
    "            break"
   ],
   "metadata": {
    "collapsed": false,
    "pycharm": {
     "name": "#%% Day 01 Part 1\n"
    }
   }
  },
  {
   "cell_type": "code",
   "execution_count": 4,
   "outputs": [
    {
     "name": "stdout",
     "output_type": "stream",
     "text": [
      "8.99 ms ± 686 µs per loop (mean ± std. dev. of 7 runs, 100 loops each)\n"
     ]
    }
   ],
   "source": [
    "%%timeit\n",
    "with open(\"day_01_input.txt\") as input_data:\n",
    "    for i, triple in enumerate(combinations(sorted((int(x) for x in input_data)), 3)):\n",
    "        if sum(triple) == searched_sum:\n",
    "            day_01_p2 = math.prod(triple)\n",
    "            break"
   ],
   "metadata": {
    "collapsed": false,
    "pycharm": {
     "name": "#%% Day 01 Part 2\n"
    }
   }
  },
  {
   "cell_type": "code",
   "execution_count": 5,
   "outputs": [],
   "source": [
    "parse_expression = re.compile(r\"^(\\d+)-(\\d+)\\s+(\\w):\\s+(.*)$\")\n",
    "\n",
    "def parse_entry(entry: str) -> Tuple:\n",
    "    g = parse_expression.match(entry).groups()\n",
    "    return *map(int, g[:2]), *g[2:]"
   ],
   "metadata": {
    "collapsed": false,
    "pycharm": {
     "name": "#%% Day 02 Setup\n"
    }
   }
  },
  {
   "cell_type": "code",
   "execution_count": 6,
   "outputs": [
    {
     "name": "stdout",
     "output_type": "stream",
     "text": [
      "1.24 ms ± 17.3 µs per loop (mean ± std. dev. of 7 runs, 1000 loops each)\n"
     ]
    }
   ],
   "source": [
    "%%timeit\n",
    "with open(\"day_02_input.txt\") as input_data:\n",
    "    day_02_p1 = sum(f <= p.count(c) <= s for f, s, c, p in map(parse_entry, input_data))"
   ],
   "metadata": {
    "collapsed": false,
    "pycharm": {
     "name": "#%% Day 02 Part 1\n"
    }
   }
  },
  {
   "cell_type": "code",
   "execution_count": 7,
   "outputs": [
    {
     "name": "stdout",
     "output_type": "stream",
     "text": [
      "1.16 ms ± 33.6 µs per loop (mean ± std. dev. of 7 runs, 1000 loops each)\n"
     ]
    }
   ],
   "source": [
    "%%timeit\n",
    "with open(\"day_02_input.txt\") as input_data:\n",
    "    day_02_p2 = sum(\n",
    "        (p[f - 1] == c) != (p[s - 1] == c)\n",
    "        for f, s, c, p in map(parse_entry, input_data)\n",
    "    )"
   ],
   "metadata": {
    "collapsed": false,
    "pycharm": {
     "name": "#%% Day 02 Part 2\n"
    }
   }
  },
  {
   "cell_type": "code",
   "execution_count": 8,
   "outputs": [],
   "source": [
    "slopes = [(1, 1), (3, 1), (5, 1), (7, 1), (1, 2)]"
   ],
   "metadata": {
    "collapsed": false,
    "pycharm": {
     "name": "#%% Day 03 Setup\n"
    }
   }
  },
  {
   "cell_type": "code",
   "execution_count": 9,
   "outputs": [
    {
     "name": "stdout",
     "output_type": "stream",
     "text": [
      "1.34 ms ± 43.8 µs per loop (mean ± std. dev. of 7 runs, 1000 loops each)\n"
     ]
    }
   ],
   "source": [
    "%%timeit\n",
    "with open(\"day_03_input.txt\") as input_data:\n",
    "    tree_map = np.array(\n",
    "        [np.array([c == \"#\" for c in row.strip()], dtype=bool) for row in input_data]\n",
    "    )\n",
    "height, width = tree_map.shape\n",
    "\n",
    "day_03_p1 = np.sum(tree_map[(np.arange(height), np.arange(0, height * 3, 3) % width)])"
   ],
   "metadata": {
    "collapsed": false,
    "pycharm": {
     "name": "#%% Day 03 Part 1\n"
    }
   }
  },
  {
   "cell_type": "code",
   "execution_count": 10,
   "outputs": [
    {
     "name": "stdout",
     "output_type": "stream",
     "text": [
      "1.44 ms ± 118 µs per loop (mean ± std. dev. of 7 runs, 1000 loops each)\n"
     ]
    }
   ],
   "source": [
    "%%timeit\n",
    "with open(\"day_03_input.txt\") as input_data:\n",
    "    tree_map = np.array(\n",
    "        [np.array([c == \"#\" for c in row.strip()], dtype=bool) for row in input_data]\n",
    "    )\n",
    "height, width = tree_map.shape\n",
    "\n",
    "slope_index_generator = (\n",
    "    (np.arange(0, height, d), np.arange(0, math.ceil(height / d) * r, r) % width)\n",
    "    for r, d in slopes\n",
    ")\n",
    "day_03_p2 = math.prod(np.sum(tree_map[s]) for s in slope_index_generator)"
   ],
   "metadata": {
    "collapsed": false,
    "pycharm": {
     "name": "#%% Day 03 Part 2\n"
    }
   }
  },
  {
   "cell_type": "code",
   "execution_count": 11,
   "outputs": [],
   "source": [
    "# noinspection PyTypeChecker\n",
    "T = TypeVar(\"T\", bound=\"Passport\")\n",
    "\n",
    "@dataclass\n",
    "class Passport:\n",
    "    byr: str = \"\"\n",
    "    iyr: str = \"\"\n",
    "    eyr: str = \"\"\n",
    "    hgt: str = \"\"\n",
    "    hcl: str = \"\"\n",
    "    ecl: str = \"\"\n",
    "    pid: str = \"\"\n",
    "    cid: str = \"\"\n",
    "\n",
    "    @classmethod\n",
    "    def from_string(cls: Type[T], info: str) -> T:\n",
    "        # I guess this an IDE bug as creating a dict from a generator should be valid\n",
    "        # noinspection PyTypeChecker\n",
    "        return Passport(\n",
    "            **dict(p.split(\":\") for p in info.strip().replace(\"\\n\", \" \").split())\n",
    "        )\n",
    "\n",
    "    def is_valid(self, excludes: list[str] = (\"cid\",), strict: bool = False) -> bool:\n",
    "        def check_year_bounds(year: str, min_bound: int, max_bound: int) -> bool:\n",
    "            return year.isdigit() and min_bound <= int(year) <= max_bound\n",
    "\n",
    "        # noinspection PyShadowingNames\n",
    "        def check_height(height: str) -> bool:\n",
    "            match = re.match(r\"^(\\d{2,3})(cm|in)$\", height)\n",
    "            if match:\n",
    "                value, unit = match.groups()\n",
    "                value = int(value)\n",
    "                return 150 <= value <= 193 if unit == \"cm\" else 59 <= value <= 76\n",
    "            return False\n",
    "\n",
    "        complete = all(v != \"\" for k, v in asdict(self).items() if k not in excludes)\n",
    "        if strict:\n",
    "            return (\n",
    "                complete\n",
    "                and check_year_bounds(self.byr, 1920, 2002)\n",
    "                and check_year_bounds(self.iyr, 2010, 2020)\n",
    "                and check_year_bounds(self.eyr, 2020, 2030)\n",
    "                and check_height(self.hgt)\n",
    "                and bool(re.match(r\"^#[0-9a-f]{6}$\", self.hcl))\n",
    "                and self.ecl in [\"amb\", \"blu\", \"brn\", \"gry\", \"grn\", \"hzl\", \"oth\"]\n",
    "                and bool(re.match(r\"^\\d{9}$\", self.pid))\n",
    "            )\n",
    "\n",
    "        return complete"
   ],
   "metadata": {
    "collapsed": false,
    "pycharm": {
     "name": "#%% Day 04 Setup\n"
    }
   }
  },
  {
   "cell_type": "code",
   "execution_count": 12,
   "outputs": [
    {
     "name": "stdout",
     "output_type": "stream",
     "text": [
      "4.96 ms ± 127 µs per loop (mean ± std. dev. of 7 runs, 100 loops each)\n"
     ]
    }
   ],
   "source": [
    "%%timeit\n",
    "with open(\"day_04_input.txt\") as input_data:\n",
    "    passport_infos = input_data.read().strip().split(\"\\n\\n\")\n",
    "\n",
    "day_04_p1 = sum(Passport.from_string(s).is_valid() for s in passport_infos)"
   ],
   "metadata": {
    "collapsed": false,
    "pycharm": {
     "name": "#%% Day 04 Part 1\n"
    }
   }
  },
  {
   "cell_type": "code",
   "execution_count": 13,
   "outputs": [
    {
     "name": "stdout",
     "output_type": "stream",
     "text": [
      "5.92 ms ± 73.8 µs per loop (mean ± std. dev. of 7 runs, 100 loops each)\n"
     ]
    }
   ],
   "source": [
    "%%timeit\n",
    "with open(\"day_04_input.txt\") as input_data:\n",
    "    passport_infos = input_data.read().strip().split(\"\\n\\n\")\n",
    "\n",
    "day_04_p2 = sum(Passport.from_string(s).is_valid(strict=True) for s in passport_infos)"
   ],
   "metadata": {
    "collapsed": false,
    "pycharm": {
     "name": "#%% Day 04 Part 2\n"
    }
   }
  },
  {
   "cell_type": "code",
   "execution_count": 14,
   "outputs": [],
   "source": [
    "def seat_id(input_string: str) -> int:\n",
    "    return int(input_string.translate(str.maketrans(\"FLBR\", \"0011\")), 2)"
   ],
   "metadata": {
    "collapsed": false,
    "pycharm": {
     "name": "#%% Day 05 Setup\n"
    }
   }
  },
  {
   "cell_type": "code",
   "execution_count": 15,
   "outputs": [
    {
     "name": "stdout",
     "output_type": "stream",
     "text": [
      "636 µs ± 29.5 µs per loop (mean ± std. dev. of 7 runs, 1000 loops each)\n"
     ]
    }
   ],
   "source": [
    "%%timeit\n",
    "with open(\"day_05_input.txt\") as input_data:\n",
    "    seat_ids = sorted(map(seat_id, input_data))\n",
    "day_05_p1 = seat_ids[-1]"
   ],
   "metadata": {
    "collapsed": false,
    "pycharm": {
     "name": "#%% Day 05 Part 1\n"
    }
   }
  },
  {
   "cell_type": "code",
   "execution_count": 16,
   "outputs": [
    {
     "name": "stdout",
     "output_type": "stream",
     "text": [
      "702 µs ± 29.9 µs per loop (mean ± std. dev. of 7 runs, 1000 loops each)\n"
     ]
    }
   ],
   "source": [
    "%%timeit\n",
    "with open(\"day_05_input.txt\") as input_data:\n",
    "    seat_ids = sorted(map(seat_id, input_data))\n",
    "day_05_p2 = seat_ids[np.nonzero(np.diff(seat_ids) == 2)[0][0]] + 1"
   ],
   "metadata": {
    "collapsed": false,
    "pycharm": {
     "name": "#%% Day 05 Part 2\n"
    }
   }
  },
  {
   "cell_type": "code",
   "execution_count": 17,
   "outputs": [
    {
     "name": "stdout",
     "output_type": "stream",
     "text": [
      "814 µs ± 9.05 µs per loop (mean ± std. dev. of 7 runs, 1000 loops each)\n"
     ]
    }
   ],
   "source": [
    "%%timeit\n",
    "with open(\"day_06_input.txt\") as input_data:\n",
    "    groups = [{q for q in g.replace(\"\\n\", \"\")} for g in input_data.read().split(\"\\n\\n\")]\n",
    "day_06_p1 = sum(len(x) for x in groups)"
   ],
   "metadata": {
    "collapsed": false,
    "pycharm": {
     "name": "#%% Day 06 Part 1\n"
    }
   }
  },
  {
   "cell_type": "code",
   "execution_count": 18,
   "outputs": [
    {
     "name": "stdout",
     "output_type": "stream",
     "text": [
      "1.67 ms ± 78.7 µs per loop (mean ± std. dev. of 7 runs, 1000 loops each)\n"
     ]
    }
   ],
   "source": [
    "%%timeit\n",
    "with open(\"day_06_input.txt\") as input_data:\n",
    "    groups = [[set(q) for q in g.split(\"\\n\")] for g in input_data.read().split(\"\\n\\n\")]\n",
    "day_06_p2 = sum(len(set.intersection(*[y for y in x])) for x in groups)"
   ],
   "metadata": {
    "collapsed": false,
    "pycharm": {
     "name": "#%% Day 06 Part 2\n"
    }
   }
  },
  {
   "cell_type": "code",
   "execution_count": 19,
   "outputs": [],
   "source": [
    "bag_regex = r\"^(\\w+ \\w+)\"\n",
    "contained_regex = r\"(\\d+) (\\w+ \\w+)\"\n",
    "\n",
    "\n",
    "def parse_rule(input_string: str) -> tuple:\n",
    "    bag_match = re.match(bag_regex, input_string).group(1)\n",
    "    contained_match = [m.groups() for m in re.finditer(contained_regex, input_string)]\n",
    "    return bag_match, [(int(m[0]), m[1]) for m in contained_match]"
   ],
   "metadata": {
    "collapsed": false,
    "pycharm": {
     "name": "#%% Day 07 Setup\n"
    }
   }
  },
  {
   "cell_type": "code",
   "execution_count": 20,
   "outputs": [
    {
     "name": "stdout",
     "output_type": "stream",
     "text": [
      "7.6 ms ± 146 µs per loop (mean ± std. dev. of 7 runs, 100 loops each)\n"
     ]
    }
   ],
   "source": [
    "%%timeit\n",
    "with open(\"day_07_input.txt\") as input_data:\n",
    "    bag_map = dict(map(parse_rule, input_data))\n",
    "\n",
    "@lru_cache()\n",
    "def contains_bag(query_bag: str, bag_to_check: str) -> bool:\n",
    "    contained_bags = {b for _, b in bag_map[bag_to_check]}\n",
    "    if not contained_bags:\n",
    "        return False\n",
    "    if query_bag in contained_bags:\n",
    "        return True\n",
    "    return any(contains_bag(query_bag, b) for b in contained_bags)\n",
    "\n",
    "\n",
    "day_07_p1 = sum(contains_bag(\"shiny gold\", s) for s in bag_map)"
   ],
   "metadata": {
    "collapsed": false,
    "pycharm": {
     "name": "#%% Day 07 Part 1\n"
    }
   }
  },
  {
   "cell_type": "code",
   "execution_count": 21,
   "outputs": [
    {
     "name": "stdout",
     "output_type": "stream",
     "text": [
      "3.02 ms ± 9.83 µs per loop (mean ± std. dev. of 7 runs, 100 loops each)\n"
     ]
    }
   ],
   "source": [
    "%%timeit\n",
    "with open(\"day_07_input.txt\") as input_data:\n",
    "    bag_map = dict(map(parse_rule, input_data))\n",
    "\n",
    "lookup_dict = defaultdict(set)\n",
    "for bag, contained_bags in bag_map.items():\n",
    "    for _, contained_bag in contained_bags:\n",
    "        lookup_dict[contained_bag].add(bag)\n",
    "\n",
    "bags_containing_shiny_gold = lookup_dict[\"shiny gold\"]\n",
    "bags_to_process = bags_containing_shiny_gold.copy()\n",
    "while bags_to_process:\n",
    "    new_bags = lookup_dict[bags_to_process.pop()]\n",
    "    bags_containing_shiny_gold |= new_bags\n",
    "    bags_to_process |= new_bags\n",
    "\n",
    "day_07_p1 = len(bags_containing_shiny_gold)"
   ],
   "metadata": {
    "collapsed": false,
    "pycharm": {
     "name": "#%% Day 07 Part 1 alternative\n"
    }
   }
  },
  {
   "cell_type": "code",
   "execution_count": 22,
   "outputs": [
    {
     "name": "stdout",
     "output_type": "stream",
     "text": [
      "2.49 ms ± 37.1 µs per loop (mean ± std. dev. of 7 runs, 100 loops each)\n"
     ]
    }
   ],
   "source": [
    "%%timeit\n",
    "with open(\"day_07_input.txt\") as input_data:\n",
    "    bag_map = dict(map(parse_rule, input_data))\n",
    "\n",
    "def get_sub_bag_count(count: int, bag: str) -> int:\n",
    "    if not bag_map[bag]:\n",
    "        return count\n",
    "    return count + count * sum(get_sub_bag_count(c, b) for c, b in bag_map[bag])\n",
    "\n",
    "\n",
    "day_07_p1 = get_sub_bag_count(1, 'shiny gold') - 1"
   ],
   "metadata": {
    "collapsed": false,
    "pycharm": {
     "name": "#%% Day 07 Part 2\n"
    }
   }
  },
  {
   "cell_type": "code",
   "execution_count": 23,
   "outputs": [],
   "source": [
    "position = 0\n",
    "visited = set()\n",
    "accumulator = 0\n",
    "\n",
    "class LoopException(Exception):\n",
    "    pass\n",
    "\n",
    "\n",
    "def noop(*args) -> None:\n",
    "    global position\n",
    "    if position in visited:\n",
    "        raise LoopException\n",
    "    visited.add(position)\n",
    "    position += 1\n",
    "\n",
    "\n",
    "def acc(value: int) -> None:\n",
    "    global position\n",
    "    global accumulator\n",
    "    if position in visited:\n",
    "        raise LoopException\n",
    "    visited.add(position)\n",
    "    accumulator += value\n",
    "    position += 1\n",
    "\n",
    "\n",
    "def jmp(value: int) -> None:\n",
    "    global position\n",
    "    if position in visited:\n",
    "        raise LoopException\n",
    "    visited.add(position)\n",
    "    position += value\n",
    "\n",
    "\n",
    "op_map = {\n",
    "    \"nop\": noop,\n",
    "    \"acc\": acc,\n",
    "    \"jmp\": jmp\n",
    "}"
   ],
   "metadata": {
    "collapsed": false,
    "pycharm": {
     "name": "#%% Day 08 Setup\n"
    }
   }
  },
  {
   "cell_type": "code",
   "execution_count": 24,
   "outputs": [
    {
     "name": "stdout",
     "output_type": "stream",
     "text": [
      "140 µs ± 5.15 µs per loop (mean ± std. dev. of 7 runs, 10000 loops each)\n"
     ]
    }
   ],
   "source": [
    "%%timeit\n",
    "with open(\"day_08_input.txt\") as input_data:\n",
    "    op_codes = [x.strip().split() for x in input_data]\n",
    "\n",
    "callstack = []\n",
    "while True:\n",
    "    callstack.append(position)\n",
    "    op, arg = op_codes[position]\n",
    "    try:\n",
    "        op_map[op](int(arg))\n",
    "    except LoopException:\n",
    "        day_08_p1 = accumulator\n",
    "        break"
   ],
   "metadata": {
    "collapsed": false,
    "pycharm": {
     "name": "#%% Day 08 Part 1\n"
    }
   }
  },
  {
   "cell_type": "code",
   "execution_count": 25,
   "outputs": [
    {
     "name": "stdout",
     "output_type": "stream",
     "text": [
      "154 µs ± 8.27 µs per loop (mean ± std. dev. of 7 runs, 10000 loops each)\n"
     ]
    }
   ],
   "source": [
    "%%timeit\n",
    "with open(\"day_08_input.txt\") as input_data:\n",
    "    op_codes = [x.strip().split() for x in input_data]\n",
    "\n",
    "position = 0\n",
    "visited = set()\n",
    "accumulator = 0\n",
    "callstack = []\n",
    "while True:\n",
    "    callstack.append(position)\n",
    "    op, arg = op_codes[position]\n",
    "    try:\n",
    "        op_map[op](int(arg))\n",
    "    except LoopException:\n",
    "        break\n",
    "\n",
    "position_to_check = [x for x in callstack[:-1] if op_codes[x][0] in [\"nop\", \"jmp\"]]\n",
    "\n",
    "terminated = False\n",
    "for corruption_candidate in position_to_check:\n",
    "    if terminated:\n",
    "        break\n",
    "    position = 0\n",
    "    visited = set()\n",
    "    accumulator = 0\n",
    "    altered_op_codes = op_codes.copy()\n",
    "    old_op, arg = altered_op_codes[corruption_candidate]\n",
    "    altered_op_codes[corruption_candidate] = (\"nop\", arg) if old_op == \"jmp\" else (\"jmp\", arg)\n",
    "    while True:\n",
    "        if position >= len(altered_op_codes):\n",
    "            day_08_p2 = accumulator\n",
    "            terminated = True\n",
    "            break\n",
    "        op, arg = altered_op_codes[position]\n",
    "        try:\n",
    "            op_map[op](int(arg))\n",
    "        except LoopException:\n",
    "            break"
   ],
   "metadata": {
    "collapsed": false,
    "pycharm": {
     "name": "#%% Day 08 Part 2\n"
    }
   }
  },
  {
   "cell_type": "code",
   "execution_count": 13,
   "outputs": [
    {
     "name": "stdout",
     "output_type": "stream",
     "text": [
      "3.53 ms ± 569 µs per loop (mean ± std. dev. of 7 runs, 100 loops each)\n"
     ]
    }
   ],
   "source": [
    "%%timeit\n",
    "offset = 25\n",
    "with open(\"day_09_input.txt\") as input_data:\n",
    "    numbers = np.array([int(x) for x in input_data])\n",
    "\n",
    "x = np.lib.stride_tricks.as_strided(numbers, (len(numbers) - offset, offset), (numbers.strides[0], numbers.strides[0]))\n",
    "\n",
    "for c, p in zip(numbers[25:], np.expand_dims(x, axis=1)):\n",
    "    if not (p + p.T == c).any():\n",
    "        day_09_p1 = c\n",
    "        break"
   ],
   "metadata": {
    "collapsed": false,
    "pycharm": {
     "name": "#%% Day 09 Part 1\n"
    }
   }
  },
  {
   "cell_type": "code",
   "execution_count": 14,
   "outputs": [
    {
     "name": "stdout",
     "output_type": "stream",
     "text": [
      "6.22 ms ± 101 µs per loop (mean ± std. dev. of 7 runs, 100 loops each)\n"
     ]
    }
   ],
   "source": [
    "%%timeit\n",
    "with open(\"day_09_input.txt\") as input_data:\n",
    "    numbers = np.array([int(x) for x in input_data])\n",
    "\n",
    "offset = 25\n",
    "x = np.lib.stride_tricks.as_strided(numbers, (len(numbers) - offset, offset), (numbers.strides[0], numbers.strides[0]))\n",
    "\n",
    "for c, p in zip(numbers[25:], x):\n",
    "    if not (p.reshape(-1, 1) + p.reshape(1, -1) == c).any():\n",
    "        day_09_p1 = c\n",
    "        break\n",
    "\n",
    "accumulated = numbers.cumsum().reshape(1, -1)\n",
    "for left, right in zip(*np.nonzero((accumulated - accumulated.T) == day_09_p1)):\n",
    "    if right - left > 2:\n",
    "        involved = numbers[left + 1:right + 1]\n",
    "        day_09_p2 = min(involved) + max(involved)"
   ],
   "metadata": {
    "collapsed": false,
    "pycharm": {
     "name": "#%% Day 09 Part 2\n"
    }
   }
  },
  {
   "cell_type": "code",
   "execution_count": 3,
   "outputs": [
    {
     "name": "stdout",
     "output_type": "stream",
     "text": [
      "84.6 µs ± 6.78 µs per loop (mean ± std. dev. of 7 runs, 10000 loops each)\n"
     ]
    }
   ],
   "source": [
    "%%timeit\n",
    "with open(\"day_10_input.txt\") as input_data:\n",
    "    adapters = np.sort(np.array([int(x) for x in input_data]))\n",
    "\n",
    "differences = np.diff(np.hstack(([0], adapters, [adapters[-1] + 3])))\n",
    "day_10_p1 = np.sum(differences == 1) * (np.sum(differences == 3))"
   ],
   "metadata": {
    "collapsed": false,
    "pycharm": {
     "name": "#%% Day 10 Part 1\n"
    }
   }
  },
  {
   "cell_type": "code",
   "execution_count": 4,
   "outputs": [
    {
     "name": "stdout",
     "output_type": "stream",
     "text": [
      "117 µs ± 8.82 µs per loop (mean ± std. dev. of 7 runs, 10000 loops each)\n"
     ]
    }
   ],
   "source": [
    "%%timeit\n",
    "with open(\"day_10_input.txt\") as input_data:\n",
    "    adapters = np.sort(np.array([int(x) for x in input_data]))\n",
    "\n",
    "differences = np.diff(np.hstack(([0], adapters, [adapters[-1] + 3])))\n",
    "run_diffs = np.diff(np.hstack(([0], differences == 1, [0])))\n",
    "run_starts, = np.nonzero(run_diffs > 0)\n",
    "run_ends, = np.nonzero(run_diffs < 0)\n",
    "\n",
    "lookup = {2: 2, 3: 4, 4: 7}\n",
    "\n",
    "day_10_p2 = math.prod(lookup[width] for start, end in zip(run_starts, run_ends) if (width := end - start) > 1)\n"
   ],
   "metadata": {
    "collapsed": false,
    "pycharm": {
     "name": "#%% Day 10 Part 2\n"
    }
   }
  },
  {
   "cell_type": "code",
   "execution_count": 13,
   "outputs": [
    {
     "name": "stdout",
     "output_type": "stream",
     "text": [
      "1.19 ms ± 23.8 µs per loop (mean ± std. dev. of 7 runs, 1000 loops each)\n"
     ]
    }
   ],
   "source": [
    "lookup = {\"L\": 0, \"#\": 1, \".\": np.nan}"
   ],
   "metadata": {
    "collapsed": false,
    "pycharm": {
     "name": "#%% Day 11 Setup\n"
    }
   }
  },
  {
   "cell_type": "code",
   "execution_count": 16,
   "outputs": [
    {
     "name": "stdout",
     "output_type": "stream",
     "text": [
      "39.6 ms ± 1.19 ms per loop (mean ± std. dev. of 7 runs, 10 loops each)\n"
     ]
    }
   ],
   "source": [
    "%%timeit\n",
    "with open(\"day_11_input.txt\") as input_data:\n",
    "    seat_map = np.array([[lookup[c] for c in line.strip()] for line in input_data])\n",
    "\n",
    "floor = np.isnan(seat_map)\n",
    "height, width = seat_map.shape\n",
    "\n",
    "seat_map = np.zeros((height + 2, width + 2), dtype=bool)\n",
    "seat_view = seat_map[1:-1, 1:-1]\n",
    "\n",
    "neighbour_map = np.lib.stride_tricks.as_strided(\n",
    "    seat_map,\n",
    "    shape=(height, width, 3, 3),\n",
    "    strides=seat_map.strides + seat_map.strides,\n",
    ")\n",
    "\n",
    "day_11_p1 = -1\n",
    "while day_11_p1 != (current_value := np.sum(seat_view, dtype=int)):\n",
    "    neighbour_sums = np.sum(neighbour_map, axis=(2, 3), dtype=np.uint8)\n",
    "    seat_view[(neighbour_sums == 0) & ~floor] = True\n",
    "    seat_view[(neighbour_sums > 4) & seat_view & ~floor] = False\n",
    "    day_11_p1 = current_value"
   ],
   "metadata": {
    "collapsed": false,
    "pycharm": {
     "name": "#%% Day 11 Part 1\n"
    }
   }
  },
  {
   "cell_type": "code",
   "execution_count": 3,
   "outputs": [
    {
     "name": "stdout",
     "output_type": "stream",
     "text": [
      "1.45 ms ± 9.64 µs per loop (mean ± std. dev. of 7 runs, 1000 loops each)\n"
     ]
    }
   ],
   "source": [
    "%%timeit\n",
    "with open(\"day_12_input.txt\") as input_data:\n",
    "    directions = [(line[0], int(line[1:].strip())) for line in input_data]\n",
    "\n",
    "position = np.array([0, 0])\n",
    "direction = np.array([0, 1])\n",
    "\n",
    "direction_lookup = {\n",
    "    \"N\": np.array([-1, 0]),\n",
    "    \"E\": np.array([0, 1]),\n",
    "    \"S\": np.array([1, 0]),\n",
    "    \"W\": np.array([0, -1]),\n",
    "}\n",
    "# [[cos a, -sin a], [sin a, cos a]]\n",
    "rotation_lookup = {\n",
    "    90: np.array([[0, -1], [1, 0]]),\n",
    "    180: np.array([[-1, 0], [0, -1]]),\n",
    "    270: np.array([[0, 1], [-1, 0]]),\n",
    "}\n",
    "\n",
    "for command, value in directions:\n",
    "    if command in \"NESW\":\n",
    "        position += value * direction_lookup[command]\n",
    "    elif command in \"RL\":\n",
    "        rotation_value = value if command == \"R\" else 360 - value\n",
    "        direction = np.matmul(direction, rotation_lookup[rotation_value])\n",
    "    elif command == \"F\":\n",
    "        position += value * direction\n",
    "    else:\n",
    "        print(\"Unsupported command\", command)\n",
    "\n",
    "\n",
    "day_12_p1 = np.sum(np.abs(position))"
   ],
   "metadata": {
    "collapsed": false,
    "pycharm": {
     "name": "#%% Day 12 Part 1\n"
    }
   }
  },
  {
   "cell_type": "code",
   "execution_count": 4,
   "outputs": [
    {
     "name": "stdout",
     "output_type": "stream",
     "text": [
      "1.36 ms ± 28.6 µs per loop (mean ± std. dev. of 7 runs, 1000 loops each)\n"
     ]
    }
   ],
   "source": [
    "%%timeit\n",
    "with open(\"day_12_input.txt\") as input_data:\n",
    "    directions = [(line[0], int(line[1:].strip())) for line in input_data]\n",
    "\n",
    "direction_lookup = {\n",
    "    \"N\": np.array([-1, 0]),\n",
    "    \"E\": np.array([0, 1]),\n",
    "    \"S\": np.array([1, 0]),\n",
    "    \"W\": np.array([0, -1]),\n",
    "}\n",
    "# [[cos a, -sin a], [sin a, cos a]]\n",
    "rotation_lookup = {\n",
    "    90: np.array([[0, -1], [1, 0]]),\n",
    "    180: np.array([[-1, 0], [0, -1]]),\n",
    "    270: np.array([[0, 1], [-1, 0]]),\n",
    "}\n",
    "\n",
    "position = np.array([0, 0])\n",
    "waypoint = np.array([-1, 10])\n",
    "\n",
    "for command, value in directions:\n",
    "    if command in \"NESW\":\n",
    "        waypoint += value * direction_lookup[command]\n",
    "    elif command in \"RL\":\n",
    "        rotation_value = value if command == \"R\" else 360 - value\n",
    "        waypoint = np.matmul(waypoint, rotation_lookup[rotation_value])\n",
    "    elif command == \"F\":\n",
    "        position += value * waypoint\n",
    "    else:\n",
    "        print(\"Unsupported command\", command)\n",
    "\n",
    "day_12_p2 = np.sum(np.abs(position))"
   ],
   "metadata": {
    "collapsed": false,
    "pycharm": {
     "name": "#%% Day 12 Part 2\n"
    }
   }
  },
  {
   "cell_type": "code",
   "execution_count": 5,
   "outputs": [
    {
     "name": "stdout",
     "output_type": "stream",
     "text": [
      "23.8 µs ± 3.88 µs per loop (mean ± std. dev. of 7 runs, 10000 loops each)\n"
     ]
    }
   ],
   "source": [
    "%%timeit\n",
    "with open(\"day_13_input.txt\") as input_data:\n",
    "    earliest_arrival = int(input_data.readline().strip())\n",
    "    bus_ids = [int(x) for x in input_data.readline().split(\",\") if x != \"x\"]\n",
    "\n",
    "wait_time, bus_id = sorted((bus_id - earliest_arrival % bus_id, bus_id) for bus_id in bus_ids)[0]\n",
    "\n",
    "day_13_p1 = wait_time * bus_id"
   ],
   "metadata": {
    "collapsed": false,
    "pycharm": {
     "name": "#%% Day 13 Part 1\n"
    }
   }
  },
  {
   "cell_type": "code",
   "execution_count": 6,
   "outputs": [
    {
     "name": "stdout",
     "output_type": "stream",
     "text": [
      "62.6 µs ± 2.44 µs per loop (mean ± std. dev. of 7 runs, 10000 loops each)\n"
     ]
    }
   ],
   "source": [
    "%%timeit\n",
    "with open(\"day_13_input.txt\") as input_data:\n",
    "    input_data.readline()\n",
    "    bus_ids = [(offset, int(x)) for offset, x in enumerate(input_data.readline().split(\",\")) if x != \"x\"]\n",
    "\n",
    "step_size = bus_ids.pop(0)[1]\n",
    "position = step_size\n",
    "while bus_ids:\n",
    "    offset, bus_id = bus_ids.pop(0)\n",
    "    while (position + offset) % bus_id != 0:\n",
    "        position += step_size\n",
    "    step_size *= bus_id\n",
    "\n",
    "day_13_p2 =position"
   ],
   "metadata": {
    "collapsed": false,
    "pycharm": {
     "name": "#%% Day 13 Part 2\n"
    }
   }
  },
  {
   "cell_type": "code",
   "execution_count": 7,
   "outputs": [
    {
     "name": "stdout",
     "output_type": "stream",
     "text": [
      "780 µs ± 50.6 µs per loop (mean ± std. dev. of 7 runs, 1000 loops each)\n"
     ]
    }
   ],
   "source": [
    "%%timeit\n",
    "mask_regex = re.compile(r\"^mask\\s+=\\s+([X10]+)\")\n",
    "mem_regex = re.compile(r\"^mem\\[(\\d+)\\]\\s=\\s(\\d+)\")\n",
    "\n",
    "result = {}\n",
    "with open(\"day_14_input.txt\") as input_data:\n",
    "    for line in input_data:\n",
    "        if mask_match := mask_regex.match(line):\n",
    "            and_pattern = int(mask_match.group(1).replace(\"1\", \"0\").replace(\"X\", \"1\"), 2)\n",
    "            or_pattern = int(mask_match.group(1).replace(\"X\", \"0\"), 2)\n",
    "        else:\n",
    "            position, value = map(int, mem_regex.match(line).groups())\n",
    "            result[position] = value & and_pattern | or_pattern\n",
    "\n",
    "day_14_p1 = sum(result.values())"
   ],
   "metadata": {
    "collapsed": false,
    "pycharm": {
     "name": "#%% Day 14 Part 1\n"
    }
   }
  },
  {
   "cell_type": "code",
   "execution_count": 8,
   "outputs": [
    {
     "name": "stdout",
     "output_type": "stream",
     "text": [
      "36 ms ± 212 µs per loop (mean ± std. dev. of 7 runs, 10 loops each)\n"
     ]
    }
   ],
   "source": [
    "%%timeit\n",
    "mask_regex = re.compile(r\"^mask\\s+=\\s+([X10]+)\")\n",
    "mem_regex = re.compile(r\"^mem\\[(\\d+)\\]\\s=\\s(\\d+)\")\n",
    "result = {}\n",
    "with open(\"day_14_input.txt\") as input_data:\n",
    "    for line in input_data:\n",
    "        if mask_match := mask_regex.match(line):\n",
    "            and_pattern = int(mask_match.group(1).replace(\"0\", \"1\").replace(\"X\", \"0\"), 2)\n",
    "            or_template = mask_match.group(1)\n",
    "            or_patterns = []\n",
    "            x_count = line.count(\"X\")\n",
    "            for x in range(2**x_count):\n",
    "                or_pattern = or_template\n",
    "                for c in bin(x)[2:].zfill(x_count):\n",
    "                    or_pattern = or_pattern.replace(\"X\", c, 1)\n",
    "                or_patterns.append(int(or_pattern, 2))\n",
    "        else:\n",
    "            position, value = map(int, mem_regex.match(line).groups())\n",
    "            for or_pattern in or_patterns:\n",
    "                result[position & and_pattern | or_pattern] = value\n",
    "\n",
    "day_14_p2 = sum(result.values())\n"
   ],
   "metadata": {
    "collapsed": false,
    "pycharm": {
     "name": "#%% Day 14 Part 2\n"
    }
   }
  },
  {
   "cell_type": "code",
   "execution_count": 13,
   "outputs": [
    {
     "name": "stdout",
     "output_type": "stream",
     "text": [
      "373 µs ± 72.1 µs per loop (mean ± std. dev. of 7 runs, 1000 loops each)\n"
     ]
    }
   ],
   "source": [
    "%%timeit\n",
    "input_data = [6, 3, 15, 13, 1, 0]\n",
    "\n",
    "history = {x: i + 1 for i, x in enumerate(input_data[:-1])}\n",
    "last_value = input_data[-1]\n",
    "turn = len(input_data) + 1\n",
    "last_turn = 2020\n",
    "while turn <= last_turn:\n",
    "    if last_value not in history:\n",
    "        current_value = 0\n",
    "    else:\n",
    "        current_value = turn - history[last_value] - 1\n",
    "    history[last_value] = turn - 1\n",
    "    last_value = current_value\n",
    "    turn += 1\n",
    "\n",
    "day_14_p1 = last_value"
   ],
   "metadata": {
    "collapsed": false,
    "pycharm": {
     "name": "#%% Day 15 Part 1\n"
    }
   }
  },
  {
   "cell_type": "code",
   "execution_count": 14,
   "outputs": [
    {
     "name": "stdout",
     "output_type": "stream",
     "text": [
      "9.36 s ± 437 ms per loop (mean ± std. dev. of 7 runs, 1 loop each)\n"
     ]
    }
   ],
   "source": [
    "%%timeit\n",
    "input_data = [6, 3, 15, 13, 1, 0]\n",
    "\n",
    "history = {x: i + 1 for i, x in enumerate(input_data[:-1])}\n",
    "last_value = input_data[-1]\n",
    "turn = len(input_data) + 1\n",
    "last_turn = 30000000\n",
    "while turn <= last_turn:\n",
    "    if last_value not in history:\n",
    "        current_value = 0\n",
    "    else:\n",
    "        current_value = turn - history[last_value] - 1\n",
    "    history[last_value] = turn - 1\n",
    "    last_value = current_value\n",
    "    turn += 1\n",
    "\n",
    "day_15_p2 = last_value"
   ],
   "metadata": {
    "collapsed": false,
    "pycharm": {
     "name": "#%% Day 15 Part 2\n"
    }
   }
  },
  {
   "cell_type": "code",
   "execution_count": 15,
   "outputs": [
    {
     "name": "stdout",
     "output_type": "stream",
     "text": [
      "7.18 ms ± 998 µs per loop (mean ± std. dev. of 7 runs, 100 loops each)\n"
     ]
    }
   ],
   "source": [
    "%%timeit\n",
    "with open(\"day_16_input.txt\") as input_data:\n",
    "    rules_dict = {}\n",
    "    while match := re.match(r\"^((?:\\w+\\s?)+):\\s(\\d+-\\d+)\\sor\\s(\\d+-\\d+)\", input_data.readline()):\n",
    "        rules_dict[match.group(1)] = [pd.Interval(*map(int, g.split(\"-\")), closed=\"both\") for g in match.groups()[1:]]\n",
    "    while \"your ticket:\" not in input_data.readline():\n",
    "        pass\n",
    "    my_ticket = list(map(int, input_data.readline().split(\",\")))\n",
    "    while \"nearby tickets:\" not in input_data.readline():\n",
    "        pass\n",
    "    nearby_tickets = [list(map(int, x.split(\",\"))) for x in input_data]\n",
    "\n",
    "\n",
    "def check_valid(ticket: list[int]) -> tuple[bool, int]:\n",
    "    valid = True\n",
    "    error_rate = 0\n",
    "    for value in ticket:\n",
    "        if not any(value in rule for name, rules in rules_dict.items() for rule in rules):\n",
    "            valid = False\n",
    "            error_rate += value\n",
    "    return valid, error_rate\n",
    "\n",
    "\n",
    "day_16_p1 = sum(check_valid(ticket)[1] for ticket in nearby_tickets)"
   ],
   "metadata": {
    "collapsed": false,
    "pycharm": {
     "name": "#%% Day 16 Part 1\n"
    }
   }
  },
  {
   "cell_type": "code",
   "execution_count": 16,
   "outputs": [
    {
     "name": "stdout",
     "output_type": "stream",
     "text": [
      "66.5 ms ± 599 µs per loop (mean ± std. dev. of 7 runs, 10 loops each)\n"
     ]
    }
   ],
   "source": [
    "%%timeit\n",
    "with open(\"day_16_input.txt\") as input_data:\n",
    "    rules_dict = {}\n",
    "    while match := re.match(r\"^((?:\\w+\\s?)+):\\s(\\d+-\\d+)\\sor\\s(\\d+-\\d+)\", input_data.readline()):\n",
    "        rules_dict[match.group(1)] = [pd.Interval(*map(int, g.split(\"-\")), closed=\"both\") for g in match.groups()[1:]]\n",
    "    while \"your ticket:\" not in input_data.readline():\n",
    "        pass\n",
    "    my_ticket = list(map(int, input_data.readline().split(\",\")))\n",
    "    while \"nearby tickets:\" not in input_data.readline():\n",
    "        pass\n",
    "    nearby_tickets = [list(map(int, x.split(\",\"))) for x in input_data]\n",
    "\n",
    "\n",
    "def check_valid(ticket: list[int]) -> tuple[bool, int]:\n",
    "    valid = True\n",
    "    error_rate = 0\n",
    "    for value in ticket:\n",
    "        if not any(value in rule for name, rules in rules_dict.items() for rule in rules):\n",
    "            valid = False\n",
    "            error_rate += value\n",
    "    return valid, error_rate\n",
    "\n",
    "valid_tickets = [ticket for ticket in nearby_tickets if check_valid(ticket)[0]]\n",
    "\n",
    "\n",
    "def map_fields(ticket: list[int]) -> list[set]:\n",
    "    possible_fields = [set() for _ in range(len(ticket))]\n",
    "    for i, value in enumerate(ticket):\n",
    "        possible_fields[i] = {name for name, rules in rules_dict.items() for rule in rules if value in rule}\n",
    "\n",
    "    return possible_fields\n",
    "\n",
    "\n",
    "candidates = {i: f[0].intersection(*f) for i, f in enumerate(zip(*[map_fields(ticket) for ticket in valid_tickets]))}\n",
    "candidates_sorted = {k: v for k, v in sorted(candidates.items(), key=lambda item: len(item[1]))}\n",
    "\n",
    "assigned = {}\n",
    "for i, fields in candidates_sorted.items():\n",
    "    fields = fields - assigned.keys()\n",
    "    if len(fields) == 1:\n",
    "        field, = fields\n",
    "        assigned[field] = i\n",
    "    else:\n",
    "        print(\"Should not happen\")\n",
    "\n",
    "day_16_p2 = math.prod(my_ticket[v] for k, v in assigned.items() if k.startswith('departure'))"
   ],
   "metadata": {
    "collapsed": false,
    "pycharm": {
     "name": "#%% Day 16 Part 2\n"
    }
   }
  },
  {
   "cell_type": "code",
   "execution_count": 17,
   "outputs": [
    {
     "name": "stdout",
     "output_type": "stream",
     "text": [
      "7.66 ms ± 1.59 ms per loop (mean ± std. dev. of 7 runs, 100 loops each)\n"
     ]
    }
   ],
   "source": [
    "%%timeit\n",
    "with open(\"day_17_input.txt\") as input_data:\n",
    "    initial_plane = np.array(\n",
    "        [[c == \"#\" for c in line.strip()] for line in input_data], dtype=bool\n",
    "    )[np.newaxis, :, :]\n",
    "\n",
    "space = np.pad(initial_plane, 7, constant_values=False)\n",
    "\n",
    "depth, height, width = [x - 2 for x in space.shape]\n",
    "\n",
    "space_view = space[1 : depth + 1, 1 : height + 1, 1 : width + 1]\n",
    "\n",
    "neighbour_map = np.lib.stride_tricks.as_strided(\n",
    "    space,\n",
    "    shape=(depth, height, width, 3, 3, 3),\n",
    "    strides=space.strides + space.strides,\n",
    ")\n",
    "\n",
    "for i in range(6):\n",
    "    swap_space = space_view.copy()\n",
    "    neighbour_sums = np.sum(neighbour_map, axis=(3, 4, 5), dtype=np.uint8)\n",
    "\n",
    "    swap_space[~((neighbour_sums == 3) | (neighbour_sums == 4)) & space_view] = False\n",
    "    swap_space[(neighbour_sums == 3) & ~space_view] = True\n",
    "\n",
    "    space_view[:, :, :] = swap_space\n",
    "\n",
    "day_17_p1 = np.sum(space_view)"
   ],
   "metadata": {
    "collapsed": false,
    "pycharm": {
     "name": "#%% Day 17 Part 1\n"
    }
   }
  },
  {
   "cell_type": "code",
   "execution_count": 18,
   "outputs": [
    {
     "name": "stdout",
     "output_type": "stream",
     "text": [
      "249 ms ± 3.63 ms per loop (mean ± std. dev. of 7 runs, 1 loop each)\n"
     ]
    }
   ],
   "source": [
    "%%timeit\n",
    "with open(\"day_17_input.txt\") as input_data:\n",
    "    initial_plane = np.array(\n",
    "        [[c == \"#\" for c in line.strip()] for line in input_data], dtype=bool\n",
    "    )[np.newaxis, np.newaxis, :, :]\n",
    "\n",
    "space = np.pad(initial_plane, 7, constant_values=False)\n",
    "\n",
    "time, depth, height, width = [x - 2 for x in space.shape]\n",
    "\n",
    "space_view = space[1 : time + 1, 1 : depth + 1, 1 : height + 1, 1 : width + 1]\n",
    "\n",
    "neighbour_map = np.lib.stride_tricks.as_strided(\n",
    "    space,\n",
    "    shape=(time, depth, height, width, 3, 3, 3, 3),\n",
    "    strides=space.strides + space.strides,\n",
    ")\n",
    "\n",
    "for i in range(6):\n",
    "    swap_space = space_view.copy()\n",
    "    neighbour_sums = np.sum(neighbour_map, axis=(4, 5, 6, 7), dtype=np.uint8)\n",
    "\n",
    "    swap_space[~((neighbour_sums == 3) | (neighbour_sums == 4)) & space_view] = False\n",
    "    swap_space[(neighbour_sums == 3) & ~space_view] = True\n",
    "\n",
    "    space_view[:, :, :, :] = swap_space\n",
    "\n",
    "day_17_p2 = np.sum(space_view)"
   ],
   "metadata": {
    "collapsed": false,
    "pycharm": {
     "name": "#%% Day 17 Part 2\n"
    }
   }
  },
  {
   "cell_type": "code",
   "execution_count": null,
   "outputs": [],
   "source": [],
   "metadata": {
    "collapsed": false,
    "pycharm": {
     "name": "#%%\n"
    }
   }
  }
 ],
 "metadata": {
  "kernelspec": {
   "name": "python38364bit97431240191747c1a13d006b5208ec49",
   "language": "python",
   "display_name": "Python 3.8.3 64-bit"
  },
  "language_info": {
   "codemirror_mode": {
    "name": "ipython",
    "version": 2
   },
   "file_extension": ".py",
   "mimetype": "text/x-python",
   "name": "python",
   "nbconvert_exporter": "python",
   "pygments_lexer": "ipython2",
   "version": "2.7.6"
  }
 },
 "nbformat": 4,
 "nbformat_minor": 0
}
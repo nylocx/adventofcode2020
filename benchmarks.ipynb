{
 "cells": [
  {
   "cell_type": "code",
   "execution_count": 1,
   "outputs": [],
   "source": [
    "import math\n",
    "import re\n",
    "from dataclasses import dataclass, asdict\n",
    "from itertools import combinations\n",
    "from typing import Tuple, Type, TypeVar\n",
    "\n",
    "import numpy as np"
   ],
   "metadata": {
    "collapsed": false,
    "pycharm": {
     "name": "#%% Imports\n"
    }
   }
  },
  {
   "cell_type": "code",
   "execution_count": 2,
   "outputs": [],
   "source": [
    "searched_sum = 2020"
   ],
   "metadata": {
    "collapsed": false,
    "pycharm": {
     "name": "#%% Day 01 Setup\n"
    }
   }
  },
  {
   "cell_type": "code",
   "execution_count": 3,
   "outputs": [
    {
     "name": "stdout",
     "output_type": "stream",
     "text": [
      "203 µs ± 9.11 µs per loop (mean ± std. dev. of 7 runs, 10000 loops each)\n"
     ]
    }
   ],
   "source": [
    "%%timeit\n",
    "with open(\"day_01_input.txt\") as input_data:\n",
    "    for i, pair in enumerate(combinations(sorted((int(x) for x in input_data)), 2)):\n",
    "        if sum(pair) == searched_sum:\n",
    "            day_01_p1 = math.prod(pair)\n",
    "            break"
   ],
   "metadata": {
    "collapsed": false,
    "pycharm": {
     "name": "#%% Day 01 Part 1\n"
    }
   }
  },
  {
   "cell_type": "code",
   "execution_count": 4,
   "outputs": [
    {
     "name": "stdout",
     "output_type": "stream",
     "text": [
      "8.76 ms ± 66.7 µs per loop (mean ± std. dev. of 7 runs, 100 loops each)\n"
     ]
    }
   ],
   "source": [
    "%%timeit\n",
    "with open(\"day_01_input.txt\") as input_data:\n",
    "    for i, triple in enumerate(combinations(sorted((int(x) for x in input_data)), 3)):\n",
    "        if sum(triple) == searched_sum:\n",
    "            day_01_p2 = math.prod(triple)\n",
    "            break"
   ],
   "metadata": {
    "collapsed": false,
    "pycharm": {
     "name": "#%% Day 01 Part 2\n"
    }
   }
  },
  {
   "cell_type": "code",
   "execution_count": 5,
   "outputs": [],
   "source": [
    "parse_expression = re.compile(r\"^(\\d+)-(\\d+)\\s+(\\w):\\s+(.*)$\")\n",
    "\n",
    "def parse_entry(entry: str) -> Tuple:\n",
    "    g = parse_expression.match(entry).groups()\n",
    "    return *map(int, g[:2]), *g[2:]"
   ],
   "metadata": {
    "collapsed": false,
    "pycharm": {
     "name": "#%% Day 02 Setup\n"
    }
   }
  },
  {
   "cell_type": "code",
   "execution_count": 6,
   "outputs": [
    {
     "name": "stdout",
     "output_type": "stream",
     "text": [
      "1.27 ms ± 56.7 µs per loop (mean ± std. dev. of 7 runs, 1000 loops each)\n"
     ]
    }
   ],
   "source": [
    "%%timeit\n",
    "with open(\"day_02_input.txt\") as input_data:\n",
    "    day_02_p1 = sum(f <= p.count(c) <= s for f, s, c, p in map(parse_entry, input_data))"
   ],
   "metadata": {
    "collapsed": false,
    "pycharm": {
     "name": "#%% Day 02 Part 1\n"
    }
   }
  },
  {
   "cell_type": "code",
   "execution_count": 7,
   "outputs": [
    {
     "name": "stdout",
     "output_type": "stream",
     "text": [
      "1.18 ms ± 33.9 µs per loop (mean ± std. dev. of 7 runs, 1000 loops each)\n"
     ]
    }
   ],
   "source": [
    "%%timeit\n",
    "with open(\"day_02_input.txt\") as input_data:\n",
    "    day_02_p2 = sum(\n",
    "        (p[f - 1] == c) != (p[s - 1] == c)\n",
    "        for f, s, c, p in map(parse_entry, input_data)\n",
    "    )"
   ],
   "metadata": {
    "collapsed": false,
    "pycharm": {
     "name": "#%% Day 02 Part 2\n"
    }
   }
  },
  {
   "cell_type": "code",
   "execution_count": 8,
   "outputs": [],
   "source": [
    "slopes = [(1, 1), (3, 1), (5, 1), (7, 1), (1, 2)]"
   ],
   "metadata": {
    "collapsed": false,
    "pycharm": {
     "name": "#%% Day 03 Setup\n"
    }
   }
  },
  {
   "cell_type": "code",
   "execution_count": 9,
   "outputs": [
    {
     "name": "stdout",
     "output_type": "stream",
     "text": [
      "1.39 ms ± 45.3 µs per loop (mean ± std. dev. of 7 runs, 1000 loops each)\n"
     ]
    }
   ],
   "source": [
    "%%timeit\n",
    "with open(\"day_03_input.txt\") as input_data:\n",
    "    tree_map = np.array(\n",
    "        [np.array([c == \"#\" for c in row.strip()], dtype=bool) for row in input_data]\n",
    "    )\n",
    "height, width = tree_map.shape\n",
    "\n",
    "day_03_p1 = np.sum(tree_map[(np.arange(height), np.arange(0, height * 3, 3) % width)])"
   ],
   "metadata": {
    "collapsed": false,
    "pycharm": {
     "name": "#%% Day 03 Part 1\n"
    }
   }
  },
  {
   "cell_type": "code",
   "execution_count": 10,
   "outputs": [
    {
     "name": "stdout",
     "output_type": "stream",
     "text": [
      "1.35 ms ± 105 µs per loop (mean ± std. dev. of 7 runs, 1000 loops each)\n"
     ]
    }
   ],
   "source": [
    "%%timeit\n",
    "with open(\"day_03_input.txt\") as input_data:\n",
    "    tree_map = np.array(\n",
    "        [np.array([c == \"#\" for c in row.strip()], dtype=bool) for row in input_data]\n",
    "    )\n",
    "height, width = tree_map.shape\n",
    "\n",
    "slope_index_generator = (\n",
    "    (np.arange(0, height, d), np.arange(0, math.ceil(height / d) * r, r) % width)\n",
    "    for r, d in slopes\n",
    ")\n",
    "day_03_p2 = math.prod(np.sum(tree_map[s]) for s in slope_index_generator)"
   ],
   "metadata": {
    "collapsed": false,
    "pycharm": {
     "name": "#%% Day 03 Part 2\n"
    }
   }
  },
  {
   "cell_type": "code",
   "execution_count": 11,
   "outputs": [],
   "source": [
    "# noinspection PyTypeChecker\n",
    "T = TypeVar(\"T\", bound=\"Passport\")\n",
    "\n",
    "@dataclass\n",
    "class Passport:\n",
    "    byr: str = \"\"\n",
    "    iyr: str = \"\"\n",
    "    eyr: str = \"\"\n",
    "    hgt: str = \"\"\n",
    "    hcl: str = \"\"\n",
    "    ecl: str = \"\"\n",
    "    pid: str = \"\"\n",
    "    cid: str = \"\"\n",
    "\n",
    "    @classmethod\n",
    "    def from_string(cls: Type[T], info: str) -> T:\n",
    "        # I guess this an IDE bug as creating a dict from a generator should be valid\n",
    "        # noinspection PyTypeChecker\n",
    "        return Passport(\n",
    "            **dict(p.split(\":\") for p in info.strip().replace(\"\\n\", \" \").split())\n",
    "        )\n",
    "\n",
    "    def is_valid(self, excludes: list[str] = (\"cid\",), strict: bool = False) -> bool:\n",
    "        def check_year_bounds(year: str, min_bound: int, max_bound: int) -> bool:\n",
    "            return year.isdigit() and min_bound <= int(year) <= max_bound\n",
    "\n",
    "        # noinspection PyShadowingNames\n",
    "        def check_height(height: str) -> bool:\n",
    "            match = re.match(r\"^(\\d{2,3})(cm|in)$\", height)\n",
    "            if match:\n",
    "                value, unit = match.groups()\n",
    "                value = int(value)\n",
    "                return 150 <= value <= 193 if unit == \"cm\" else 59 <= value <= 76\n",
    "            return False\n",
    "\n",
    "        complete = all(v != \"\" for k, v in asdict(self).items() if k not in excludes)\n",
    "        if strict:\n",
    "            return (\n",
    "                complete\n",
    "                and check_year_bounds(self.byr, 1920, 2002)\n",
    "                and check_year_bounds(self.iyr, 2010, 2020)\n",
    "                and check_year_bounds(self.eyr, 2020, 2030)\n",
    "                and check_height(self.hgt)\n",
    "                and bool(re.match(r\"^#[0-9a-f]{6}$\", self.hcl))\n",
    "                and self.ecl in [\"amb\", \"blu\", \"brn\", \"gry\", \"grn\", \"hzl\", \"oth\"]\n",
    "                and bool(re.match(r\"^\\d{9}$\", self.pid))\n",
    "            )\n",
    "\n",
    "        return complete"
   ],
   "metadata": {
    "collapsed": false,
    "pycharm": {
     "name": "#%% Day 04 Setup\n"
    }
   }
  },
  {
   "cell_type": "code",
   "execution_count": 12,
   "outputs": [
    {
     "name": "stdout",
     "output_type": "stream",
     "text": [
      "4.79 ms ± 147 µs per loop (mean ± std. dev. of 7 runs, 100 loops each)\n"
     ]
    }
   ],
   "source": [
    "%%timeit\n",
    "with open(\"day_04_input.txt\") as input_data:\n",
    "    passport_infos = input_data.read().strip().split(\"\\n\\n\")\n",
    "\n",
    "day_04_p1 = sum(Passport.from_string(s).is_valid() for s in passport_infos)"
   ],
   "metadata": {
    "collapsed": false,
    "pycharm": {
     "name": "#%% Day 04 Part 1\n"
    }
   }
  },
  {
   "cell_type": "code",
   "execution_count": 13,
   "outputs": [
    {
     "name": "stdout",
     "output_type": "stream",
     "text": [
      "5.29 ms ± 263 µs per loop (mean ± std. dev. of 7 runs, 100 loops each)\n"
     ]
    }
   ],
   "source": [
    "%%timeit\n",
    "with open(\"day_04_input.txt\") as input_data:\n",
    "    passport_infos = input_data.read().strip().split(\"\\n\\n\")\n",
    "\n",
    "day_04_p2 = sum(Passport.from_string(s).is_valid(strict=True) for s in passport_infos)"
   ],
   "metadata": {
    "collapsed": false,
    "pycharm": {
     "name": "#%% Day 04 Part 2\n"
    }
   }
  },
  {
   "cell_type": "code",
   "execution_count": 14,
   "outputs": [],
   "source": [
    "def seat_id(input_string: str) -> int:\n",
    "    return int(input_string.translate(str.maketrans(\"FLBR\", \"0011\")), 2)"
   ],
   "metadata": {
    "collapsed": false,
    "pycharm": {
     "name": "#%% Day 05 Setup\n"
    }
   }
  },
  {
   "cell_type": "code",
   "execution_count": 15,
   "outputs": [
    {
     "name": "stdout",
     "output_type": "stream",
     "text": [
      "561 µs ± 1.97 µs per loop (mean ± std. dev. of 7 runs, 1000 loops each)\n"
     ]
    }
   ],
   "source": [
    "%%timeit\n",
    "with open(\"day_05_input.txt\") as input_data:\n",
    "    seat_ids = sorted(map(seat_id, input_data))\n",
    "day_05_p1 = seat_ids[-1]"
   ],
   "metadata": {
    "collapsed": false,
    "pycharm": {
     "name": "#%% Day 05 Part 1\n"
    }
   }
  },
  {
   "cell_type": "code",
   "execution_count": 16,
   "outputs": [
    {
     "name": "stdout",
     "output_type": "stream",
     "text": [
      "733 µs ± 2.92 µs per loop (mean ± std. dev. of 7 runs, 1000 loops each)\n"
     ]
    }
   ],
   "source": [
    "%%timeit\n",
    "with open(\"day_05_input.txt\") as input_data:\n",
    "    seat_ids = sorted(map(seat_id, input_data))\n",
    "day_05_p2 = seat_ids[np.nonzero(np.diff(seat_ids) == 2)[0][0]] + 1"
   ],
   "metadata": {
    "collapsed": false,
    "pycharm": {
     "name": "#%% Day 05 Part 2\n"
    }
   }
  },
  {
   "cell_type": "code",
   "execution_count": 17,
   "outputs": [
    {
     "name": "stdout",
     "output_type": "stream",
     "text": [
      "765 µs ± 37.1 µs per loop (mean ± std. dev. of 7 runs, 1000 loops each)\n"
     ]
    }
   ],
   "source": [
    "%%timeit\n",
    "with open(\"day_06_input.txt\") as input_data:\n",
    "    groups = [{q for q in g.replace(\"\\n\", \"\")} for g in input_data.read().split(\"\\n\\n\")]\n",
    "day_06_p1 = sum(len(x) for x in groups)"
   ],
   "metadata": {
    "collapsed": false,
    "pycharm": {
     "name": "#%% Day 06 Part 1\n"
    }
   }
  },
  {
   "cell_type": "code",
   "execution_count": 18,
   "outputs": [
    {
     "name": "stdout",
     "output_type": "stream",
     "text": [
      "1.66 ms ± 93.6 µs per loop (mean ± std. dev. of 7 runs, 1000 loops each)\n"
     ]
    }
   ],
   "source": [
    "%%timeit\n",
    "with open(\"day_06_input.txt\") as input_data:\n",
    "    groups = [[set(q) for q in g.split(\"\\n\")] for g in input_data.read().split(\"\\n\\n\")]\n",
    "day_06_p2 = sum(len(set.intersection(*[y for y in x])) for x in groups)\n"
   ],
   "metadata": {
    "collapsed": false,
    "pycharm": {
     "name": "#%% Day 06 Part 2\n"
    }
   }
  }
 ],
 "metadata": {
  "kernelspec": {
   "name": "python38364bit97431240191747c1a13d006b5208ec49",
   "language": "python",
   "display_name": "Python 3.8.3 64-bit"
  },
  "language_info": {
   "codemirror_mode": {
    "name": "ipython",
    "version": 2
   },
   "file_extension": ".py",
   "mimetype": "text/x-python",
   "name": "python",
   "nbconvert_exporter": "python",
   "pygments_lexer": "ipython2",
   "version": "2.7.6"
  }
 },
 "nbformat": 4,
 "nbformat_minor": 0
}
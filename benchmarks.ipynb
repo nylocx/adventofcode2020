{
 "cells": [
  {
   "cell_type": "code",
   "execution_count": 1,
   "outputs": [],
   "source": [
    "import math\n",
    "import re\n",
    "from dataclasses import dataclass, asdict\n",
    "from itertools import combinations\n",
    "from typing import Tuple, Type, TypeVar\n",
    "from collections import defaultdict\n",
    "from functools import lru_cache\n",
    "\n",
    "import numpy as np"
   ],
   "metadata": {
    "collapsed": false,
    "pycharm": {
     "name": "#%% Imports\n"
    }
   }
  },
  {
   "cell_type": "code",
   "execution_count": 2,
   "outputs": [],
   "source": [
    "searched_sum = 2020"
   ],
   "metadata": {
    "collapsed": false,
    "pycharm": {
     "name": "#%% Day 01 Setup\n"
    }
   }
  },
  {
   "cell_type": "code",
   "execution_count": 3,
   "outputs": [
    {
     "name": "stdout",
     "output_type": "stream",
     "text": [
      "228 µs ± 31.9 µs per loop (mean ± std. dev. of 7 runs, 1000 loops each)\n"
     ]
    }
   ],
   "source": [
    "%%timeit\n",
    "with open(\"day_01_input.txt\") as input_data:\n",
    "    for i, pair in enumerate(combinations(sorted((int(x) for x in input_data)), 2)):\n",
    "        if sum(pair) == searched_sum:\n",
    "            day_01_p1 = math.prod(pair)\n",
    "            break"
   ],
   "metadata": {
    "collapsed": false,
    "pycharm": {
     "name": "#%% Day 01 Part 1\n"
    }
   }
  },
  {
   "cell_type": "code",
   "execution_count": null,
   "outputs": [],
   "source": [
    "%%timeit\n",
    "with open(\"day_01_input.txt\") as input_data:\n",
    "    for i, triple in enumerate(combinations(sorted((int(x) for x in input_data)), 3)):\n",
    "        if sum(triple) == searched_sum:\n",
    "            day_01_p2 = math.prod(triple)\n",
    "            break"
   ],
   "metadata": {
    "collapsed": false,
    "pycharm": {
     "name": "#%% Day 01 Part 2\n",
     "is_executing": true
    }
   }
  },
  {
   "cell_type": "code",
   "execution_count": null,
   "outputs": [],
   "source": [
    "parse_expression = re.compile(r\"^(\\d+)-(\\d+)\\s+(\\w):\\s+(.*)$\")\n",
    "\n",
    "def parse_entry(entry: str) -> Tuple:\n",
    "    g = parse_expression.match(entry).groups()\n",
    "    return *map(int, g[:2]), *g[2:]"
   ],
   "metadata": {
    "collapsed": false,
    "pycharm": {
     "name": "#%% Day 02 Setup\n",
     "is_executing": true
    }
   }
  },
  {
   "cell_type": "code",
   "execution_count": null,
   "outputs": [],
   "source": [
    "%%timeit\n",
    "with open(\"day_02_input.txt\") as input_data:\n",
    "    day_02_p1 = sum(f <= p.count(c) <= s for f, s, c, p in map(parse_entry, input_data))"
   ],
   "metadata": {
    "collapsed": false,
    "pycharm": {
     "name": "#%% Day 02 Part 1\n",
     "is_executing": true
    }
   }
  },
  {
   "cell_type": "code",
   "execution_count": null,
   "outputs": [],
   "source": [
    "%%timeit\n",
    "with open(\"day_02_input.txt\") as input_data:\n",
    "    day_02_p2 = sum(\n",
    "        (p[f - 1] == c) != (p[s - 1] == c)\n",
    "        for f, s, c, p in map(parse_entry, input_data)\n",
    "    )"
   ],
   "metadata": {
    "collapsed": false,
    "pycharm": {
     "name": "#%% Day 02 Part 2\n",
     "is_executing": true
    }
   }
  },
  {
   "cell_type": "code",
   "execution_count": null,
   "outputs": [],
   "source": [
    "slopes = [(1, 1), (3, 1), (5, 1), (7, 1), (1, 2)]"
   ],
   "metadata": {
    "collapsed": false,
    "pycharm": {
     "name": "#%% Day 03 Setup\n",
     "is_executing": true
    }
   }
  },
  {
   "cell_type": "code",
   "execution_count": null,
   "outputs": [],
   "source": [
    "%%timeit\n",
    "with open(\"day_03_input.txt\") as input_data:\n",
    "    tree_map = np.array(\n",
    "        [np.array([c == \"#\" for c in row.strip()], dtype=bool) for row in input_data]\n",
    "    )\n",
    "height, width = tree_map.shape\n",
    "\n",
    "day_03_p1 = np.sum(tree_map[(np.arange(height), np.arange(0, height * 3, 3) % width)])"
   ],
   "metadata": {
    "collapsed": false,
    "pycharm": {
     "name": "#%% Day 03 Part 1\n",
     "is_executing": true
    }
   }
  },
  {
   "cell_type": "code",
   "execution_count": null,
   "outputs": [],
   "source": [
    "%%timeit\n",
    "with open(\"day_03_input.txt\") as input_data:\n",
    "    tree_map = np.array(\n",
    "        [np.array([c == \"#\" for c in row.strip()], dtype=bool) for row in input_data]\n",
    "    )\n",
    "height, width = tree_map.shape\n",
    "\n",
    "slope_index_generator = (\n",
    "    (np.arange(0, height, d), np.arange(0, math.ceil(height / d) * r, r) % width)\n",
    "    for r, d in slopes\n",
    ")\n",
    "day_03_p2 = math.prod(np.sum(tree_map[s]) for s in slope_index_generator)"
   ],
   "metadata": {
    "collapsed": false,
    "pycharm": {
     "name": "#%% Day 03 Part 2\n",
     "is_executing": true
    }
   }
  },
  {
   "cell_type": "code",
   "execution_count": null,
   "outputs": [],
   "source": [
    "# noinspection PyTypeChecker\n",
    "T = TypeVar(\"T\", bound=\"Passport\")\n",
    "\n",
    "@dataclass\n",
    "class Passport:\n",
    "    byr: str = \"\"\n",
    "    iyr: str = \"\"\n",
    "    eyr: str = \"\"\n",
    "    hgt: str = \"\"\n",
    "    hcl: str = \"\"\n",
    "    ecl: str = \"\"\n",
    "    pid: str = \"\"\n",
    "    cid: str = \"\"\n",
    "\n",
    "    @classmethod\n",
    "    def from_string(cls: Type[T], info: str) -> T:\n",
    "        # I guess this an IDE bug as creating a dict from a generator should be valid\n",
    "        # noinspection PyTypeChecker\n",
    "        return Passport(\n",
    "            **dict(p.split(\":\") for p in info.strip().replace(\"\\n\", \" \").split())\n",
    "        )\n",
    "\n",
    "    def is_valid(self, excludes: list[str] = (\"cid\",), strict: bool = False) -> bool:\n",
    "        def check_year_bounds(year: str, min_bound: int, max_bound: int) -> bool:\n",
    "            return year.isdigit() and min_bound <= int(year) <= max_bound\n",
    "\n",
    "        # noinspection PyShadowingNames\n",
    "        def check_height(height: str) -> bool:\n",
    "            match = re.match(r\"^(\\d{2,3})(cm|in)$\", height)\n",
    "            if match:\n",
    "                value, unit = match.groups()\n",
    "                value = int(value)\n",
    "                return 150 <= value <= 193 if unit == \"cm\" else 59 <= value <= 76\n",
    "            return False\n",
    "\n",
    "        complete = all(v != \"\" for k, v in asdict(self).items() if k not in excludes)\n",
    "        if strict:\n",
    "            return (\n",
    "                complete\n",
    "                and check_year_bounds(self.byr, 1920, 2002)\n",
    "                and check_year_bounds(self.iyr, 2010, 2020)\n",
    "                and check_year_bounds(self.eyr, 2020, 2030)\n",
    "                and check_height(self.hgt)\n",
    "                and bool(re.match(r\"^#[0-9a-f]{6}$\", self.hcl))\n",
    "                and self.ecl in [\"amb\", \"blu\", \"brn\", \"gry\", \"grn\", \"hzl\", \"oth\"]\n",
    "                and bool(re.match(r\"^\\d{9}$\", self.pid))\n",
    "            )\n",
    "\n",
    "        return complete"
   ],
   "metadata": {
    "collapsed": false,
    "pycharm": {
     "name": "#%% Day 04 Setup\n",
     "is_executing": true
    }
   }
  },
  {
   "cell_type": "code",
   "execution_count": null,
   "outputs": [],
   "source": [
    "%%timeit\n",
    "with open(\"day_04_input.txt\") as input_data:\n",
    "    passport_infos = input_data.read().strip().split(\"\\n\\n\")\n",
    "\n",
    "day_04_p1 = sum(Passport.from_string(s).is_valid() for s in passport_infos)"
   ],
   "metadata": {
    "collapsed": false,
    "pycharm": {
     "name": "#%% Day 04 Part 1\n",
     "is_executing": true
    }
   }
  },
  {
   "cell_type": "code",
   "execution_count": null,
   "outputs": [],
   "source": [
    "%%timeit\n",
    "with open(\"day_04_input.txt\") as input_data:\n",
    "    passport_infos = input_data.read().strip().split(\"\\n\\n\")\n",
    "\n",
    "day_04_p2 = sum(Passport.from_string(s).is_valid(strict=True) for s in passport_infos)"
   ],
   "metadata": {
    "collapsed": false,
    "pycharm": {
     "name": "#%% Day 04 Part 2\n",
     "is_executing": true
    }
   }
  },
  {
   "cell_type": "code",
   "execution_count": null,
   "outputs": [],
   "source": [
    "def seat_id(input_string: str) -> int:\n",
    "    return int(input_string.translate(str.maketrans(\"FLBR\", \"0011\")), 2)"
   ],
   "metadata": {
    "collapsed": false,
    "pycharm": {
     "name": "#%% Day 05 Setup\n",
     "is_executing": true
    }
   }
  },
  {
   "cell_type": "code",
   "execution_count": null,
   "outputs": [],
   "source": [
    "%%timeit\n",
    "with open(\"day_05_input.txt\") as input_data:\n",
    "    seat_ids = sorted(map(seat_id, input_data))\n",
    "day_05_p1 = seat_ids[-1]"
   ],
   "metadata": {
    "collapsed": false,
    "pycharm": {
     "name": "#%% Day 05 Part 1\n",
     "is_executing": true
    }
   }
  },
  {
   "cell_type": "code",
   "execution_count": null,
   "outputs": [],
   "source": [
    "%%timeit\n",
    "with open(\"day_05_input.txt\") as input_data:\n",
    "    seat_ids = sorted(map(seat_id, input_data))\n",
    "day_05_p2 = seat_ids[np.nonzero(np.diff(seat_ids) == 2)[0][0]] + 1"
   ],
   "metadata": {
    "collapsed": false,
    "pycharm": {
     "name": "#%% Day 05 Part 2\n",
     "is_executing": true
    }
   }
  },
  {
   "cell_type": "code",
   "execution_count": null,
   "outputs": [],
   "source": [
    "%%timeit\n",
    "with open(\"day_06_input.txt\") as input_data:\n",
    "    groups = [{q for q in g.replace(\"\\n\", \"\")} for g in input_data.read().split(\"\\n\\n\")]\n",
    "day_06_p1 = sum(len(x) for x in groups)"
   ],
   "metadata": {
    "collapsed": false,
    "pycharm": {
     "name": "#%% Day 06 Part 1\n",
     "is_executing": true
    }
   }
  },
  {
   "cell_type": "code",
   "execution_count": null,
   "outputs": [],
   "source": [
    "%%timeit\n",
    "with open(\"day_06_input.txt\") as input_data:\n",
    "    groups = [[set(q) for q in g.split(\"\\n\")] for g in input_data.read().split(\"\\n\\n\")]\n",
    "day_06_p2 = sum(len(set.intersection(*[y for y in x])) for x in groups)"
   ],
   "metadata": {
    "collapsed": false,
    "pycharm": {
     "name": "#%% Day 06 Part 2\n",
     "is_executing": true
    }
   }
  },
  {
   "cell_type": "code",
   "execution_count": 3,
   "outputs": [],
   "source": [
    "bag_regex = r\"^(\\w+ \\w+)\"\n",
    "contained_regex = r\"(\\d+) (\\w+ \\w+)\"\n",
    "\n",
    "\n",
    "def parse_rule(input_string: str) -> tuple:\n",
    "    bag_match = re.match(bag_regex, input_string).group(1)\n",
    "    contained_match = [m.groups() for m in re.finditer(contained_regex, input_string)]\n",
    "    return bag_match, [(int(m[0]), m[1]) for m in contained_match]"
   ],
   "metadata": {
    "collapsed": false,
    "pycharm": {
     "name": "#%% Day 07 Setup\n"
    }
   }
  },
  {
   "cell_type": "code",
   "execution_count": null,
   "outputs": [],
   "source": [
    "%%timeit\n",
    "with open(\"day_07_input.txt\") as input_data:\n",
    "    bag_map = dict(map(parse_rule, input_data))\n",
    "\n",
    "@lru_cache()\n",
    "def contains_bag(query_bag: str, bag_to_check: str) -> bool:\n",
    "    contained_bags = {b for _, b in bag_map[bag_to_check]}\n",
    "    if not contained_bags:\n",
    "        return False\n",
    "    if query_bag in contained_bags:\n",
    "        return True\n",
    "    return any(contains_bag(query_bag, b) for b in contained_bags)\n",
    "\n",
    "\n",
    "day_07_p1 = sum(contains_bag(\"shiny gold\", s) for s in bag_map)"
   ],
   "metadata": {
    "collapsed": false,
    "pycharm": {
     "name": "#%% Day 07 Part 1\n",
     "is_executing": true
    }
   }
  },
  {
   "cell_type": "code",
   "execution_count": null,
   "outputs": [],
   "source": [
    "%%timeit\n",
    "with open(\"day_07_input.txt\") as input_data:\n",
    "    bag_map = dict(map(parse_rule, input_data))\n",
    "\n",
    "lookup_dict = defaultdict(set)\n",
    "for bag, contained_bags in bag_map.items():\n",
    "    for _, contained_bag in contained_bags:\n",
    "        lookup_dict[contained_bag].add(bag)\n",
    "\n",
    "bags_containing_shiny_gold = lookup_dict[\"shiny gold\"]\n",
    "bags_to_process = bags_containing_shiny_gold.copy()\n",
    "while bags_to_process:\n",
    "    new_bags = lookup_dict[bags_to_process.pop()]\n",
    "    bags_containing_shiny_gold |= new_bags\n",
    "    bags_to_process |= new_bags\n",
    "\n",
    "day_07_p1 = len(bags_containing_shiny_gold)"
   ],
   "metadata": {
    "collapsed": false,
    "pycharm": {
     "name": "#%% Day 07 Part 1 alternative\n",
     "is_executing": true
    }
   }
  },
  {
   "cell_type": "code",
   "execution_count": 4,
   "outputs": [
    {
     "ename": "NameError",
     "evalue": "name 're' is not defined",
     "output_type": "error",
     "traceback": [
      "\u001B[0;31m---------------------------------------------------------------------------\u001B[0m",
      "\u001B[0;31mNameError\u001B[0m                                 Traceback (most recent call last)",
      "\u001B[0;32m<ipython-input-4-f97bc399cd07>\u001B[0m in \u001B[0;36m<module>\u001B[0;34m\u001B[0m\n\u001B[0;32m----> 1\u001B[0;31m \u001B[0mget_ipython\u001B[0m\u001B[0;34m(\u001B[0m\u001B[0;34m)\u001B[0m\u001B[0;34m.\u001B[0m\u001B[0mrun_cell_magic\u001B[0m\u001B[0;34m(\u001B[0m\u001B[0;34m'timeit'\u001B[0m\u001B[0;34m,\u001B[0m \u001B[0;34m''\u001B[0m\u001B[0;34m,\u001B[0m \u001B[0;34m'with open(\"day_07_input.txt\") as input_data:\\n    bag_map = dict(map(parse_rule, input_data))\\n\\ndef get_sub_bag_count(count: int, bag: str) -> int:\\n    if not bag_map[bag]:\\n        return count\\n    return count + count * sum(get_sub_bag_count(c, b) for c, b in bag_map[bag])\\n\\n\\nday_07_p1 = get_sub_bag_count(1, \\'shiny gold\\') - 1\\n'\u001B[0m\u001B[0;34m)\u001B[0m\u001B[0;34m\u001B[0m\u001B[0;34m\u001B[0m\u001B[0m\n\u001B[0m",
      "\u001B[0;32m/usr/lib/python3.9/site-packages/IPython/core/interactiveshell.py\u001B[0m in \u001B[0;36mrun_cell_magic\u001B[0;34m(self, magic_name, line, cell)\u001B[0m\n\u001B[1;32m   2380\u001B[0m             \u001B[0;32mwith\u001B[0m \u001B[0mself\u001B[0m\u001B[0;34m.\u001B[0m\u001B[0mbuiltin_trap\u001B[0m\u001B[0;34m:\u001B[0m\u001B[0;34m\u001B[0m\u001B[0;34m\u001B[0m\u001B[0m\n\u001B[1;32m   2381\u001B[0m                 \u001B[0margs\u001B[0m \u001B[0;34m=\u001B[0m \u001B[0;34m(\u001B[0m\u001B[0mmagic_arg_s\u001B[0m\u001B[0;34m,\u001B[0m \u001B[0mcell\u001B[0m\u001B[0;34m)\u001B[0m\u001B[0;34m\u001B[0m\u001B[0;34m\u001B[0m\u001B[0m\n\u001B[0;32m-> 2382\u001B[0;31m                 \u001B[0mresult\u001B[0m \u001B[0;34m=\u001B[0m \u001B[0mfn\u001B[0m\u001B[0;34m(\u001B[0m\u001B[0;34m*\u001B[0m\u001B[0margs\u001B[0m\u001B[0;34m,\u001B[0m \u001B[0;34m**\u001B[0m\u001B[0mkwargs\u001B[0m\u001B[0;34m)\u001B[0m\u001B[0;34m\u001B[0m\u001B[0;34m\u001B[0m\u001B[0m\n\u001B[0m\u001B[1;32m   2383\u001B[0m             \u001B[0;32mreturn\u001B[0m \u001B[0mresult\u001B[0m\u001B[0;34m\u001B[0m\u001B[0;34m\u001B[0m\u001B[0m\n\u001B[1;32m   2384\u001B[0m \u001B[0;34m\u001B[0m\u001B[0m\n",
      "\u001B[0;32m<decorator-gen-60>\u001B[0m in \u001B[0;36mtimeit\u001B[0;34m(self, line, cell, local_ns)\u001B[0m\n",
      "\u001B[0;32m/usr/lib/python3.9/site-packages/IPython/core/magic.py\u001B[0m in \u001B[0;36m<lambda>\u001B[0;34m(f, *a, **k)\u001B[0m\n\u001B[1;32m    185\u001B[0m     \u001B[0;31m# but it's overkill for just that one bit of state.\u001B[0m\u001B[0;34m\u001B[0m\u001B[0;34m\u001B[0m\u001B[0;34m\u001B[0m\u001B[0m\n\u001B[1;32m    186\u001B[0m     \u001B[0;32mdef\u001B[0m \u001B[0mmagic_deco\u001B[0m\u001B[0;34m(\u001B[0m\u001B[0marg\u001B[0m\u001B[0;34m)\u001B[0m\u001B[0;34m:\u001B[0m\u001B[0;34m\u001B[0m\u001B[0;34m\u001B[0m\u001B[0m\n\u001B[0;32m--> 187\u001B[0;31m         \u001B[0mcall\u001B[0m \u001B[0;34m=\u001B[0m \u001B[0;32mlambda\u001B[0m \u001B[0mf\u001B[0m\u001B[0;34m,\u001B[0m \u001B[0;34m*\u001B[0m\u001B[0ma\u001B[0m\u001B[0;34m,\u001B[0m \u001B[0;34m**\u001B[0m\u001B[0mk\u001B[0m\u001B[0;34m:\u001B[0m \u001B[0mf\u001B[0m\u001B[0;34m(\u001B[0m\u001B[0;34m*\u001B[0m\u001B[0ma\u001B[0m\u001B[0;34m,\u001B[0m \u001B[0;34m**\u001B[0m\u001B[0mk\u001B[0m\u001B[0;34m)\u001B[0m\u001B[0;34m\u001B[0m\u001B[0;34m\u001B[0m\u001B[0m\n\u001B[0m\u001B[1;32m    188\u001B[0m \u001B[0;34m\u001B[0m\u001B[0m\n\u001B[1;32m    189\u001B[0m         \u001B[0;32mif\u001B[0m \u001B[0mcallable\u001B[0m\u001B[0;34m(\u001B[0m\u001B[0marg\u001B[0m\u001B[0;34m)\u001B[0m\u001B[0;34m:\u001B[0m\u001B[0;34m\u001B[0m\u001B[0;34m\u001B[0m\u001B[0m\n",
      "\u001B[0;32m/usr/lib/python3.9/site-packages/IPython/core/magics/execution.py\u001B[0m in \u001B[0;36mtimeit\u001B[0;34m(self, line, cell, local_ns)\u001B[0m\n\u001B[1;32m   1167\u001B[0m             \u001B[0;32mfor\u001B[0m \u001B[0mindex\u001B[0m \u001B[0;32min\u001B[0m \u001B[0mrange\u001B[0m\u001B[0;34m(\u001B[0m\u001B[0;36m0\u001B[0m\u001B[0;34m,\u001B[0m \u001B[0;36m10\u001B[0m\u001B[0;34m)\u001B[0m\u001B[0;34m:\u001B[0m\u001B[0;34m\u001B[0m\u001B[0;34m\u001B[0m\u001B[0m\n\u001B[1;32m   1168\u001B[0m                 \u001B[0mnumber\u001B[0m \u001B[0;34m=\u001B[0m \u001B[0;36m10\u001B[0m \u001B[0;34m**\u001B[0m \u001B[0mindex\u001B[0m\u001B[0;34m\u001B[0m\u001B[0;34m\u001B[0m\u001B[0m\n\u001B[0;32m-> 1169\u001B[0;31m                 \u001B[0mtime_number\u001B[0m \u001B[0;34m=\u001B[0m \u001B[0mtimer\u001B[0m\u001B[0;34m.\u001B[0m\u001B[0mtimeit\u001B[0m\u001B[0;34m(\u001B[0m\u001B[0mnumber\u001B[0m\u001B[0;34m)\u001B[0m\u001B[0;34m\u001B[0m\u001B[0;34m\u001B[0m\u001B[0m\n\u001B[0m\u001B[1;32m   1170\u001B[0m                 \u001B[0;32mif\u001B[0m \u001B[0mtime_number\u001B[0m \u001B[0;34m>=\u001B[0m \u001B[0;36m0.2\u001B[0m\u001B[0;34m:\u001B[0m\u001B[0;34m\u001B[0m\u001B[0;34m\u001B[0m\u001B[0m\n\u001B[1;32m   1171\u001B[0m                     \u001B[0;32mbreak\u001B[0m\u001B[0;34m\u001B[0m\u001B[0;34m\u001B[0m\u001B[0m\n",
      "\u001B[0;32m/usr/lib/python3.9/site-packages/IPython/core/magics/execution.py\u001B[0m in \u001B[0;36mtimeit\u001B[0;34m(self, number)\u001B[0m\n\u001B[1;32m    167\u001B[0m         \u001B[0mgc\u001B[0m\u001B[0;34m.\u001B[0m\u001B[0mdisable\u001B[0m\u001B[0;34m(\u001B[0m\u001B[0;34m)\u001B[0m\u001B[0;34m\u001B[0m\u001B[0;34m\u001B[0m\u001B[0m\n\u001B[1;32m    168\u001B[0m         \u001B[0;32mtry\u001B[0m\u001B[0;34m:\u001B[0m\u001B[0;34m\u001B[0m\u001B[0;34m\u001B[0m\u001B[0m\n\u001B[0;32m--> 169\u001B[0;31m             \u001B[0mtiming\u001B[0m \u001B[0;34m=\u001B[0m \u001B[0mself\u001B[0m\u001B[0;34m.\u001B[0m\u001B[0minner\u001B[0m\u001B[0;34m(\u001B[0m\u001B[0mit\u001B[0m\u001B[0;34m,\u001B[0m \u001B[0mself\u001B[0m\u001B[0;34m.\u001B[0m\u001B[0mtimer\u001B[0m\u001B[0;34m)\u001B[0m\u001B[0;34m\u001B[0m\u001B[0;34m\u001B[0m\u001B[0m\n\u001B[0m\u001B[1;32m    170\u001B[0m         \u001B[0;32mfinally\u001B[0m\u001B[0;34m:\u001B[0m\u001B[0;34m\u001B[0m\u001B[0;34m\u001B[0m\u001B[0m\n\u001B[1;32m    171\u001B[0m             \u001B[0;32mif\u001B[0m \u001B[0mgcold\u001B[0m\u001B[0;34m:\u001B[0m\u001B[0;34m\u001B[0m\u001B[0;34m\u001B[0m\u001B[0m\n",
      "\u001B[0;32m<magic-timeit>\u001B[0m in \u001B[0;36minner\u001B[0;34m(_it, _timer)\u001B[0m\n",
      "\u001B[0;32m<ipython-input-3-be4537115320>\u001B[0m in \u001B[0;36mparse_rule\u001B[0;34m(input_string)\u001B[0m\n\u001B[1;32m      4\u001B[0m \u001B[0;34m\u001B[0m\u001B[0m\n\u001B[1;32m      5\u001B[0m \u001B[0;32mdef\u001B[0m \u001B[0mparse_rule\u001B[0m\u001B[0;34m(\u001B[0m\u001B[0minput_string\u001B[0m\u001B[0;34m:\u001B[0m \u001B[0mstr\u001B[0m\u001B[0;34m)\u001B[0m \u001B[0;34m->\u001B[0m \u001B[0mtuple\u001B[0m\u001B[0;34m:\u001B[0m\u001B[0;34m\u001B[0m\u001B[0;34m\u001B[0m\u001B[0m\n\u001B[0;32m----> 6\u001B[0;31m     \u001B[0mbag_match\u001B[0m \u001B[0;34m=\u001B[0m \u001B[0mre\u001B[0m\u001B[0;34m.\u001B[0m\u001B[0mmatch\u001B[0m\u001B[0;34m(\u001B[0m\u001B[0mbag_regex\u001B[0m\u001B[0;34m,\u001B[0m \u001B[0minput_string\u001B[0m\u001B[0;34m)\u001B[0m\u001B[0;34m.\u001B[0m\u001B[0mgroup\u001B[0m\u001B[0;34m(\u001B[0m\u001B[0;36m1\u001B[0m\u001B[0;34m)\u001B[0m\u001B[0;34m\u001B[0m\u001B[0;34m\u001B[0m\u001B[0m\n\u001B[0m\u001B[1;32m      7\u001B[0m     \u001B[0mcontained_match\u001B[0m \u001B[0;34m=\u001B[0m \u001B[0;34m[\u001B[0m\u001B[0mm\u001B[0m\u001B[0;34m.\u001B[0m\u001B[0mgroups\u001B[0m\u001B[0;34m(\u001B[0m\u001B[0;34m)\u001B[0m \u001B[0;32mfor\u001B[0m \u001B[0mm\u001B[0m \u001B[0;32min\u001B[0m \u001B[0mre\u001B[0m\u001B[0;34m.\u001B[0m\u001B[0mfinditer\u001B[0m\u001B[0;34m(\u001B[0m\u001B[0mcontained_regex\u001B[0m\u001B[0;34m,\u001B[0m \u001B[0minput_string\u001B[0m\u001B[0;34m)\u001B[0m\u001B[0;34m]\u001B[0m\u001B[0;34m\u001B[0m\u001B[0;34m\u001B[0m\u001B[0m\n\u001B[1;32m      8\u001B[0m     \u001B[0;32mreturn\u001B[0m \u001B[0mbag_match\u001B[0m\u001B[0;34m,\u001B[0m \u001B[0;34m[\u001B[0m\u001B[0;34m(\u001B[0m\u001B[0mint\u001B[0m\u001B[0;34m(\u001B[0m\u001B[0mm\u001B[0m\u001B[0;34m[\u001B[0m\u001B[0;36m0\u001B[0m\u001B[0;34m]\u001B[0m\u001B[0;34m)\u001B[0m\u001B[0;34m,\u001B[0m \u001B[0mm\u001B[0m\u001B[0;34m[\u001B[0m\u001B[0;36m1\u001B[0m\u001B[0;34m]\u001B[0m\u001B[0;34m)\u001B[0m \u001B[0;32mfor\u001B[0m \u001B[0mm\u001B[0m \u001B[0;32min\u001B[0m \u001B[0mcontained_match\u001B[0m\u001B[0;34m]\u001B[0m\u001B[0;34m\u001B[0m\u001B[0;34m\u001B[0m\u001B[0m\n",
      "\u001B[0;31mNameError\u001B[0m: name 're' is not defined"
     ]
    }
   ],
   "source": [
    "%%timeit\n",
    "with open(\"day_07_input.txt\") as input_data:\n",
    "    bag_map = dict(map(parse_rule, input_data))\n",
    "\n",
    "def get_sub_bag_count(count: int, bag: str) -> int:\n",
    "    if not bag_map[bag]:\n",
    "        return count\n",
    "    return count + count * sum(get_sub_bag_count(c, b) for c, b in bag_map[bag])\n",
    "\n",
    "\n",
    "day_07_p1 = get_sub_bag_count(1, 'shiny gold') - 1\n",
    "s"
   ],
   "metadata": {
    "collapsed": false,
    "pycharm": {
     "name": "#%% Day 07 Part 2\n"
    }
   }
  }
 ],
 "metadata": {
  "kernelspec": {
   "name": "python38364bit97431240191747c1a13d006b5208ec49",
   "language": "python",
   "display_name": "Python 3.8.3 64-bit"
  },
  "language_info": {
   "codemirror_mode": {
    "name": "ipython",
    "version": 2
   },
   "file_extension": ".py",
   "mimetype": "text/x-python",
   "name": "python",
   "nbconvert_exporter": "python",
   "pygments_lexer": "ipython2",
   "version": "2.7.6"
  }
 },
 "nbformat": 4,
 "nbformat_minor": 0
}